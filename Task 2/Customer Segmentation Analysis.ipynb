{
 "cells": [
  {
   "cell_type": "markdown",
   "id": "f8773989",
   "metadata": {},
   "source": [
    "# Customer Segmentation Analysis"
   ]
  },
  {
   "cell_type": "markdown",
   "id": "c871841c",
   "metadata": {},
   "source": [
    "## Project Description:\n",
    "\n",
    "The aim of this data analytics project is to perform customer segmentation analysis for an e-\n",
    "commerce company. By analyzing customer behavior and purchase patterns, the goal is to\n",
    "group customers into distinct segments. This segmentation can inform targeted marketing\n",
    "strategies, improve customer satisfaction, and enhance overall business strategies."
   ]
  },
  {
   "cell_type": "markdown",
   "id": "e5ed7f6f",
   "metadata": {},
   "source": [
    "# 1. Data Collection:\n",
    "Obtain a dataset containing customer information, purchase history, and\n",
    "relevant data."
   ]
  },
  {
   "cell_type": "code",
   "execution_count": 1,
   "id": "ff003118",
   "metadata": {},
   "outputs": [],
   "source": [
    "# import libraries\n",
    "import pandas as pd\n",
    "import numpy as np\n",
    "import matplotlib.pyplot as plt\n",
    "import seaborn as sns\n",
    "\n",
    "# Ignore warnings \n",
    "from warnings import filterwarnings\n",
    "filterwarnings(action='ignore') "
   ]
  },
  {
   "cell_type": "code",
   "execution_count": 2,
   "id": "5766a8c9",
   "metadata": {},
   "outputs": [],
   "source": [
    "# load dataset\n",
    "df= pd.read_csv(\"E-commerce Customer Data.csv\")"
   ]
  },
  {
   "cell_type": "code",
   "execution_count": 3,
   "id": "090ee9ec",
   "metadata": {},
   "outputs": [
    {
     "name": "stdout",
     "output_type": "stream",
     "text": [
      "<class 'pandas.core.frame.DataFrame'>\n",
      "RangeIndex: 350 entries, 0 to 349\n",
      "Data columns (total 11 columns):\n",
      " #   Column                    Non-Null Count  Dtype  \n",
      "---  ------                    --------------  -----  \n",
      " 0   Customer ID               350 non-null    int64  \n",
      " 1   Gender                    350 non-null    object \n",
      " 2   Age                       350 non-null    int64  \n",
      " 3   City                      350 non-null    object \n",
      " 4   Membership Type           350 non-null    object \n",
      " 5   Total Spend               350 non-null    float64\n",
      " 6   Items Purchased           350 non-null    int64  \n",
      " 7   Average Rating            350 non-null    float64\n",
      " 8   Discount Applied          350 non-null    bool   \n",
      " 9   Days Since Last Purchase  350 non-null    int64  \n",
      " 10  Satisfaction Level        348 non-null    object \n",
      "dtypes: bool(1), float64(2), int64(4), object(4)\n",
      "memory usage: 27.8+ KB\n"
     ]
    }
   ],
   "source": [
    "# display the info\n",
    "df.info()"
   ]
  },
  {
   "cell_type": "code",
   "execution_count": 4,
   "id": "1787b27a",
   "metadata": {},
   "outputs": [
    {
     "data": {
      "text/html": [
       "<div>\n",
       "<style scoped>\n",
       "    .dataframe tbody tr th:only-of-type {\n",
       "        vertical-align: middle;\n",
       "    }\n",
       "\n",
       "    .dataframe tbody tr th {\n",
       "        vertical-align: top;\n",
       "    }\n",
       "\n",
       "    .dataframe thead th {\n",
       "        text-align: right;\n",
       "    }\n",
       "</style>\n",
       "<table border=\"1\" class=\"dataframe\">\n",
       "  <thead>\n",
       "    <tr style=\"text-align: right;\">\n",
       "      <th></th>\n",
       "      <th>Customer ID</th>\n",
       "      <th>Gender</th>\n",
       "      <th>Age</th>\n",
       "      <th>City</th>\n",
       "      <th>Membership Type</th>\n",
       "      <th>Total Spend</th>\n",
       "      <th>Items Purchased</th>\n",
       "      <th>Average Rating</th>\n",
       "      <th>Discount Applied</th>\n",
       "      <th>Days Since Last Purchase</th>\n",
       "      <th>Satisfaction Level</th>\n",
       "    </tr>\n",
       "  </thead>\n",
       "  <tbody>\n",
       "    <tr>\n",
       "      <th>0</th>\n",
       "      <td>101</td>\n",
       "      <td>Female</td>\n",
       "      <td>29</td>\n",
       "      <td>New York</td>\n",
       "      <td>Gold</td>\n",
       "      <td>1120.20</td>\n",
       "      <td>14</td>\n",
       "      <td>4.6</td>\n",
       "      <td>True</td>\n",
       "      <td>25</td>\n",
       "      <td>Satisfied</td>\n",
       "    </tr>\n",
       "    <tr>\n",
       "      <th>1</th>\n",
       "      <td>102</td>\n",
       "      <td>Male</td>\n",
       "      <td>34</td>\n",
       "      <td>Los Angeles</td>\n",
       "      <td>Silver</td>\n",
       "      <td>780.50</td>\n",
       "      <td>11</td>\n",
       "      <td>4.1</td>\n",
       "      <td>False</td>\n",
       "      <td>18</td>\n",
       "      <td>Neutral</td>\n",
       "    </tr>\n",
       "    <tr>\n",
       "      <th>2</th>\n",
       "      <td>103</td>\n",
       "      <td>Female</td>\n",
       "      <td>43</td>\n",
       "      <td>Chicago</td>\n",
       "      <td>Bronze</td>\n",
       "      <td>510.75</td>\n",
       "      <td>9</td>\n",
       "      <td>3.4</td>\n",
       "      <td>True</td>\n",
       "      <td>42</td>\n",
       "      <td>Unsatisfied</td>\n",
       "    </tr>\n",
       "    <tr>\n",
       "      <th>3</th>\n",
       "      <td>104</td>\n",
       "      <td>Male</td>\n",
       "      <td>30</td>\n",
       "      <td>San Francisco</td>\n",
       "      <td>Gold</td>\n",
       "      <td>1480.30</td>\n",
       "      <td>19</td>\n",
       "      <td>4.7</td>\n",
       "      <td>False</td>\n",
       "      <td>12</td>\n",
       "      <td>Satisfied</td>\n",
       "    </tr>\n",
       "    <tr>\n",
       "      <th>4</th>\n",
       "      <td>105</td>\n",
       "      <td>Male</td>\n",
       "      <td>27</td>\n",
       "      <td>Miami</td>\n",
       "      <td>Silver</td>\n",
       "      <td>720.40</td>\n",
       "      <td>13</td>\n",
       "      <td>4.0</td>\n",
       "      <td>True</td>\n",
       "      <td>55</td>\n",
       "      <td>Unsatisfied</td>\n",
       "    </tr>\n",
       "  </tbody>\n",
       "</table>\n",
       "</div>"
      ],
      "text/plain": [
       "   Customer ID  Gender  Age           City Membership Type  Total Spend  \\\n",
       "0          101  Female   29       New York            Gold      1120.20   \n",
       "1          102    Male   34    Los Angeles          Silver       780.50   \n",
       "2          103  Female   43        Chicago          Bronze       510.75   \n",
       "3          104    Male   30  San Francisco            Gold      1480.30   \n",
       "4          105    Male   27          Miami          Silver       720.40   \n",
       "\n",
       "   Items Purchased  Average Rating  Discount Applied  \\\n",
       "0               14             4.6              True   \n",
       "1               11             4.1             False   \n",
       "2                9             3.4              True   \n",
       "3               19             4.7             False   \n",
       "4               13             4.0              True   \n",
       "\n",
       "   Days Since Last Purchase Satisfaction Level  \n",
       "0                        25          Satisfied  \n",
       "1                        18            Neutral  \n",
       "2                        42        Unsatisfied  \n",
       "3                        12          Satisfied  \n",
       "4                        55        Unsatisfied  "
      ]
     },
     "execution_count": 4,
     "metadata": {},
     "output_type": "execute_result"
    }
   ],
   "source": [
    "# first five row of data\n",
    "df.head()"
   ]
  },
  {
   "cell_type": "code",
   "execution_count": 5,
   "id": "9f8851c5",
   "metadata": {},
   "outputs": [
    {
     "data": {
      "text/plain": [
       "Customer ID                 0\n",
       "Gender                      0\n",
       "Age                         0\n",
       "City                        0\n",
       "Membership Type             0\n",
       "Total Spend                 0\n",
       "Items Purchased             0\n",
       "Average Rating              0\n",
       "Discount Applied            0\n",
       "Days Since Last Purchase    0\n",
       "Satisfaction Level          2\n",
       "dtype: int64"
      ]
     },
     "execution_count": 5,
     "metadata": {},
     "output_type": "execute_result"
    }
   ],
   "source": [
    "# check the missing values\n",
    "df.isnull().sum()"
   ]
  },
  {
   "cell_type": "markdown",
   "id": "6efed633",
   "metadata": {},
   "source": [
    "# 2. Data Exploration and Cleaning: \n",
    "Explore the dataset, understand its structure, and handle\n",
    "any missing or inconsistent data.\n"
   ]
  },
  {
   "cell_type": "code",
   "execution_count": 6,
   "id": "4a409053",
   "metadata": {},
   "outputs": [
    {
     "data": {
      "text/plain": [
       "(350, 11)"
      ]
     },
     "execution_count": 6,
     "metadata": {},
     "output_type": "execute_result"
    }
   ],
   "source": [
    "df.shape"
   ]
  },
  {
   "cell_type": "code",
   "execution_count": 7,
   "id": "531c1734",
   "metadata": {},
   "outputs": [
    {
     "data": {
      "text/html": [
       "<div>\n",
       "<style scoped>\n",
       "    .dataframe tbody tr th:only-of-type {\n",
       "        vertical-align: middle;\n",
       "    }\n",
       "\n",
       "    .dataframe tbody tr th {\n",
       "        vertical-align: top;\n",
       "    }\n",
       "\n",
       "    .dataframe thead th {\n",
       "        text-align: right;\n",
       "    }\n",
       "</style>\n",
       "<table border=\"1\" class=\"dataframe\">\n",
       "  <thead>\n",
       "    <tr style=\"text-align: right;\">\n",
       "      <th></th>\n",
       "      <th>Customer ID</th>\n",
       "      <th>Gender</th>\n",
       "      <th>Age</th>\n",
       "      <th>City</th>\n",
       "      <th>Membership Type</th>\n",
       "      <th>Total Spend</th>\n",
       "      <th>Items Purchased</th>\n",
       "      <th>Average Rating</th>\n",
       "      <th>Discount Applied</th>\n",
       "      <th>Days Since Last Purchase</th>\n",
       "      <th>Satisfaction Level</th>\n",
       "    </tr>\n",
       "  </thead>\n",
       "  <tbody>\n",
       "    <tr>\n",
       "      <th>count</th>\n",
       "      <td>350.000000</td>\n",
       "      <td>350</td>\n",
       "      <td>350.000000</td>\n",
       "      <td>350</td>\n",
       "      <td>350</td>\n",
       "      <td>350.000000</td>\n",
       "      <td>350.000000</td>\n",
       "      <td>350.000000</td>\n",
       "      <td>350</td>\n",
       "      <td>350.000000</td>\n",
       "      <td>348</td>\n",
       "    </tr>\n",
       "    <tr>\n",
       "      <th>unique</th>\n",
       "      <td>NaN</td>\n",
       "      <td>2</td>\n",
       "      <td>NaN</td>\n",
       "      <td>6</td>\n",
       "      <td>3</td>\n",
       "      <td>NaN</td>\n",
       "      <td>NaN</td>\n",
       "      <td>NaN</td>\n",
       "      <td>2</td>\n",
       "      <td>NaN</td>\n",
       "      <td>3</td>\n",
       "    </tr>\n",
       "    <tr>\n",
       "      <th>top</th>\n",
       "      <td>NaN</td>\n",
       "      <td>Female</td>\n",
       "      <td>NaN</td>\n",
       "      <td>New York</td>\n",
       "      <td>Gold</td>\n",
       "      <td>NaN</td>\n",
       "      <td>NaN</td>\n",
       "      <td>NaN</td>\n",
       "      <td>True</td>\n",
       "      <td>NaN</td>\n",
       "      <td>Satisfied</td>\n",
       "    </tr>\n",
       "    <tr>\n",
       "      <th>freq</th>\n",
       "      <td>NaN</td>\n",
       "      <td>175</td>\n",
       "      <td>NaN</td>\n",
       "      <td>59</td>\n",
       "      <td>117</td>\n",
       "      <td>NaN</td>\n",
       "      <td>NaN</td>\n",
       "      <td>NaN</td>\n",
       "      <td>175</td>\n",
       "      <td>NaN</td>\n",
       "      <td>125</td>\n",
       "    </tr>\n",
       "    <tr>\n",
       "      <th>mean</th>\n",
       "      <td>275.500000</td>\n",
       "      <td>NaN</td>\n",
       "      <td>33.597143</td>\n",
       "      <td>NaN</td>\n",
       "      <td>NaN</td>\n",
       "      <td>845.381714</td>\n",
       "      <td>12.600000</td>\n",
       "      <td>4.019143</td>\n",
       "      <td>NaN</td>\n",
       "      <td>26.588571</td>\n",
       "      <td>NaN</td>\n",
       "    </tr>\n",
       "    <tr>\n",
       "      <th>std</th>\n",
       "      <td>101.180532</td>\n",
       "      <td>NaN</td>\n",
       "      <td>4.870882</td>\n",
       "      <td>NaN</td>\n",
       "      <td>NaN</td>\n",
       "      <td>362.058695</td>\n",
       "      <td>4.155984</td>\n",
       "      <td>0.580539</td>\n",
       "      <td>NaN</td>\n",
       "      <td>13.440813</td>\n",
       "      <td>NaN</td>\n",
       "    </tr>\n",
       "    <tr>\n",
       "      <th>min</th>\n",
       "      <td>101.000000</td>\n",
       "      <td>NaN</td>\n",
       "      <td>26.000000</td>\n",
       "      <td>NaN</td>\n",
       "      <td>NaN</td>\n",
       "      <td>410.800000</td>\n",
       "      <td>7.000000</td>\n",
       "      <td>3.000000</td>\n",
       "      <td>NaN</td>\n",
       "      <td>9.000000</td>\n",
       "      <td>NaN</td>\n",
       "    </tr>\n",
       "    <tr>\n",
       "      <th>25%</th>\n",
       "      <td>188.250000</td>\n",
       "      <td>NaN</td>\n",
       "      <td>30.000000</td>\n",
       "      <td>NaN</td>\n",
       "      <td>NaN</td>\n",
       "      <td>502.000000</td>\n",
       "      <td>9.000000</td>\n",
       "      <td>3.500000</td>\n",
       "      <td>NaN</td>\n",
       "      <td>15.000000</td>\n",
       "      <td>NaN</td>\n",
       "    </tr>\n",
       "    <tr>\n",
       "      <th>50%</th>\n",
       "      <td>275.500000</td>\n",
       "      <td>NaN</td>\n",
       "      <td>32.500000</td>\n",
       "      <td>NaN</td>\n",
       "      <td>NaN</td>\n",
       "      <td>775.200000</td>\n",
       "      <td>12.000000</td>\n",
       "      <td>4.100000</td>\n",
       "      <td>NaN</td>\n",
       "      <td>23.000000</td>\n",
       "      <td>NaN</td>\n",
       "    </tr>\n",
       "    <tr>\n",
       "      <th>75%</th>\n",
       "      <td>362.750000</td>\n",
       "      <td>NaN</td>\n",
       "      <td>37.000000</td>\n",
       "      <td>NaN</td>\n",
       "      <td>NaN</td>\n",
       "      <td>1160.600000</td>\n",
       "      <td>15.000000</td>\n",
       "      <td>4.500000</td>\n",
       "      <td>NaN</td>\n",
       "      <td>38.000000</td>\n",
       "      <td>NaN</td>\n",
       "    </tr>\n",
       "    <tr>\n",
       "      <th>max</th>\n",
       "      <td>450.000000</td>\n",
       "      <td>NaN</td>\n",
       "      <td>43.000000</td>\n",
       "      <td>NaN</td>\n",
       "      <td>NaN</td>\n",
       "      <td>1520.100000</td>\n",
       "      <td>21.000000</td>\n",
       "      <td>4.900000</td>\n",
       "      <td>NaN</td>\n",
       "      <td>63.000000</td>\n",
       "      <td>NaN</td>\n",
       "    </tr>\n",
       "  </tbody>\n",
       "</table>\n",
       "</div>"
      ],
      "text/plain": [
       "        Customer ID  Gender         Age      City Membership Type  \\\n",
       "count    350.000000     350  350.000000       350             350   \n",
       "unique          NaN       2         NaN         6               3   \n",
       "top             NaN  Female         NaN  New York            Gold   \n",
       "freq            NaN     175         NaN        59             117   \n",
       "mean     275.500000     NaN   33.597143       NaN             NaN   \n",
       "std      101.180532     NaN    4.870882       NaN             NaN   \n",
       "min      101.000000     NaN   26.000000       NaN             NaN   \n",
       "25%      188.250000     NaN   30.000000       NaN             NaN   \n",
       "50%      275.500000     NaN   32.500000       NaN             NaN   \n",
       "75%      362.750000     NaN   37.000000       NaN             NaN   \n",
       "max      450.000000     NaN   43.000000       NaN             NaN   \n",
       "\n",
       "        Total Spend  Items Purchased  Average Rating Discount Applied  \\\n",
       "count    350.000000       350.000000      350.000000              350   \n",
       "unique          NaN              NaN             NaN                2   \n",
       "top             NaN              NaN             NaN             True   \n",
       "freq            NaN              NaN             NaN              175   \n",
       "mean     845.381714        12.600000        4.019143              NaN   \n",
       "std      362.058695         4.155984        0.580539              NaN   \n",
       "min      410.800000         7.000000        3.000000              NaN   \n",
       "25%      502.000000         9.000000        3.500000              NaN   \n",
       "50%      775.200000        12.000000        4.100000              NaN   \n",
       "75%     1160.600000        15.000000        4.500000              NaN   \n",
       "max     1520.100000        21.000000        4.900000              NaN   \n",
       "\n",
       "        Days Since Last Purchase Satisfaction Level  \n",
       "count                 350.000000                348  \n",
       "unique                       NaN                  3  \n",
       "top                          NaN          Satisfied  \n",
       "freq                         NaN                125  \n",
       "mean                   26.588571                NaN  \n",
       "std                    13.440813                NaN  \n",
       "min                     9.000000                NaN  \n",
       "25%                    15.000000                NaN  \n",
       "50%                    23.000000                NaN  \n",
       "75%                    38.000000                NaN  \n",
       "max                    63.000000                NaN  "
      ]
     },
     "execution_count": 7,
     "metadata": {},
     "output_type": "execute_result"
    }
   ],
   "source": [
    "# Summary statistics for numeric and categorical columns\n",
    "df.describe(include=\"all\")"
   ]
  },
  {
   "cell_type": "code",
   "execution_count": 8,
   "id": "aad63fa8",
   "metadata": {},
   "outputs": [
    {
     "data": {
      "text/html": [
       "<div>\n",
       "<style scoped>\n",
       "    .dataframe tbody tr th:only-of-type {\n",
       "        vertical-align: middle;\n",
       "    }\n",
       "\n",
       "    .dataframe tbody tr th {\n",
       "        vertical-align: top;\n",
       "    }\n",
       "\n",
       "    .dataframe thead th {\n",
       "        text-align: right;\n",
       "    }\n",
       "</style>\n",
       "<table border=\"1\" class=\"dataframe\">\n",
       "  <thead>\n",
       "    <tr style=\"text-align: right;\">\n",
       "      <th></th>\n",
       "      <th>Customer ID</th>\n",
       "      <th>Age</th>\n",
       "      <th>Total Spend</th>\n",
       "      <th>Items Purchased</th>\n",
       "      <th>Average Rating</th>\n",
       "      <th>Days Since Last Purchase</th>\n",
       "    </tr>\n",
       "  </thead>\n",
       "  <tbody>\n",
       "    <tr>\n",
       "      <th>count</th>\n",
       "      <td>350.000000</td>\n",
       "      <td>350.000000</td>\n",
       "      <td>350.000000</td>\n",
       "      <td>350.000000</td>\n",
       "      <td>350.000000</td>\n",
       "      <td>350.000000</td>\n",
       "    </tr>\n",
       "    <tr>\n",
       "      <th>mean</th>\n",
       "      <td>275.500000</td>\n",
       "      <td>33.597143</td>\n",
       "      <td>845.381714</td>\n",
       "      <td>12.600000</td>\n",
       "      <td>4.019143</td>\n",
       "      <td>26.588571</td>\n",
       "    </tr>\n",
       "    <tr>\n",
       "      <th>std</th>\n",
       "      <td>101.180532</td>\n",
       "      <td>4.870882</td>\n",
       "      <td>362.058695</td>\n",
       "      <td>4.155984</td>\n",
       "      <td>0.580539</td>\n",
       "      <td>13.440813</td>\n",
       "    </tr>\n",
       "    <tr>\n",
       "      <th>min</th>\n",
       "      <td>101.000000</td>\n",
       "      <td>26.000000</td>\n",
       "      <td>410.800000</td>\n",
       "      <td>7.000000</td>\n",
       "      <td>3.000000</td>\n",
       "      <td>9.000000</td>\n",
       "    </tr>\n",
       "    <tr>\n",
       "      <th>25%</th>\n",
       "      <td>188.250000</td>\n",
       "      <td>30.000000</td>\n",
       "      <td>502.000000</td>\n",
       "      <td>9.000000</td>\n",
       "      <td>3.500000</td>\n",
       "      <td>15.000000</td>\n",
       "    </tr>\n",
       "    <tr>\n",
       "      <th>50%</th>\n",
       "      <td>275.500000</td>\n",
       "      <td>32.500000</td>\n",
       "      <td>775.200000</td>\n",
       "      <td>12.000000</td>\n",
       "      <td>4.100000</td>\n",
       "      <td>23.000000</td>\n",
       "    </tr>\n",
       "    <tr>\n",
       "      <th>75%</th>\n",
       "      <td>362.750000</td>\n",
       "      <td>37.000000</td>\n",
       "      <td>1160.600000</td>\n",
       "      <td>15.000000</td>\n",
       "      <td>4.500000</td>\n",
       "      <td>38.000000</td>\n",
       "    </tr>\n",
       "    <tr>\n",
       "      <th>max</th>\n",
       "      <td>450.000000</td>\n",
       "      <td>43.000000</td>\n",
       "      <td>1520.100000</td>\n",
       "      <td>21.000000</td>\n",
       "      <td>4.900000</td>\n",
       "      <td>63.000000</td>\n",
       "    </tr>\n",
       "  </tbody>\n",
       "</table>\n",
       "</div>"
      ],
      "text/plain": [
       "       Customer ID         Age  Total Spend  Items Purchased  Average Rating  \\\n",
       "count   350.000000  350.000000   350.000000       350.000000      350.000000   \n",
       "mean    275.500000   33.597143   845.381714        12.600000        4.019143   \n",
       "std     101.180532    4.870882   362.058695         4.155984        0.580539   \n",
       "min     101.000000   26.000000   410.800000         7.000000        3.000000   \n",
       "25%     188.250000   30.000000   502.000000         9.000000        3.500000   \n",
       "50%     275.500000   32.500000   775.200000        12.000000        4.100000   \n",
       "75%     362.750000   37.000000  1160.600000        15.000000        4.500000   \n",
       "max     450.000000   43.000000  1520.100000        21.000000        4.900000   \n",
       "\n",
       "       Days Since Last Purchase  \n",
       "count                350.000000  \n",
       "mean                  26.588571  \n",
       "std                   13.440813  \n",
       "min                    9.000000  \n",
       "25%                   15.000000  \n",
       "50%                   23.000000  \n",
       "75%                   38.000000  \n",
       "max                   63.000000  "
      ]
     },
     "execution_count": 8,
     "metadata": {},
     "output_type": "execute_result"
    }
   ],
   "source": [
    "df.describe()"
   ]
  },
  {
   "cell_type": "code",
   "execution_count": 9,
   "id": "6a8d31dc",
   "metadata": {},
   "outputs": [
    {
     "data": {
      "text/plain": [
       "0"
      ]
     },
     "execution_count": 9,
     "metadata": {},
     "output_type": "execute_result"
    }
   ],
   "source": [
    "# duplicate rows in dataset\n",
    "df.duplicated().sum()"
   ]
  },
  {
   "cell_type": "markdown",
   "id": "41cc1b53",
   "metadata": {},
   "source": [
    "# 3. Descriptive Statistics:\n",
    "Calculate key metrics such as average purchase value, frequency of purchases, etc.\n"
   ]
  },
  {
   "cell_type": "code",
   "execution_count": 10,
   "id": "cc6842b1",
   "metadata": {},
   "outputs": [
    {
     "data": {
      "text/plain": [
       "295883.6"
      ]
     },
     "execution_count": 10,
     "metadata": {},
     "output_type": "execute_result"
    }
   ],
   "source": [
    "# Calculate total revenue\n",
    "df['Total Spend'].sum()"
   ]
  },
  {
   "cell_type": "code",
   "execution_count": 11,
   "id": "68d78612",
   "metadata": {},
   "outputs": [
    {
     "data": {
      "text/plain": [
       "845.3817142857142"
      ]
     },
     "execution_count": 11,
     "metadata": {},
     "output_type": "execute_result"
    }
   ],
   "source": [
    "# Calculate average purchase value\n",
    "df['Total Spend'].mean()"
   ]
  },
  {
   "cell_type": "code",
   "execution_count": 12,
   "id": "049d9ca0",
   "metadata": {},
   "outputs": [
    {
     "data": {
      "text/plain": [
       "Customer ID\n",
       "101    1\n",
       "102    1\n",
       "103    1\n",
       "104    1\n",
       "105    1\n",
       "      ..\n",
       "446    1\n",
       "447    1\n",
       "448    1\n",
       "449    1\n",
       "450    1\n",
       "Name: Total Spend, Length: 350, dtype: int64"
      ]
     },
     "execution_count": 12,
     "metadata": {},
     "output_type": "execute_result"
    }
   ],
   "source": [
    "# Calculate purchase frequency (number of items purchased per customer)\n",
    "df.groupby('Customer ID')['Total Spend'].count()"
   ]
  },
  {
   "cell_type": "code",
   "execution_count": 13,
   "id": "83c44fcd",
   "metadata": {},
   "outputs": [
    {
     "data": {
      "text/plain": [
       "350"
      ]
     },
     "execution_count": 13,
     "metadata": {},
     "output_type": "execute_result"
    }
   ],
   "source": [
    "# Calculate total number of unique customers\n",
    "df['Customer ID'].nunique()"
   ]
  },
  {
   "cell_type": "code",
   "execution_count": 14,
   "id": "c51db8b1",
   "metadata": {},
   "outputs": [
    {
     "name": "stdout",
     "output_type": "stream",
     "text": [
      "Customer ID\n",
      "110    1520.1\n",
      "128    1500.1\n",
      "218    1500.1\n",
      "331    1500.1\n",
      "188    1500.1\n",
      "Name: Total Spend, dtype: float64\n"
     ]
    }
   ],
   "source": [
    "# Display top 5 customers by total spend\n",
    "purchase_per_customer = df.groupby('Customer ID')['Total Spend'].sum()\n",
    "print(purchase_per_customer.sort_values(ascending=False).head())\n"
   ]
  },
  {
   "cell_type": "markdown",
   "id": "27239bfe",
   "metadata": {},
   "source": [
    "# 4. Customer Segmentation:\n",
    "Utilize clustering algorithms (e.g., K-means) to segment customers based on behavior and purchase patterns."
   ]
  },
  {
   "cell_type": "code",
   "execution_count": 15,
   "id": "9a1750a7",
   "metadata": {},
   "outputs": [],
   "source": [
    "# import Libraries\n",
    "from sklearn.preprocessing import StandardScaler\n",
    "from sklearn.cluster import KMeans"
   ]
  },
  {
   "cell_type": "markdown",
   "id": "4a246917",
   "metadata": {},
   "source": [
    "#### Step 1: Data Preparation for Clustering"
   ]
  },
  {
   "cell_type": "code",
   "execution_count": 16,
   "id": "5da7ffcc",
   "metadata": {},
   "outputs": [],
   "source": [
    "# Select relevant features for clustering\n",
    "features = df[['Total Spend', 'Items Purchased', 'Days Since Last Purchase']]\n",
    "\n",
    "# Handle missing values (if any)\n",
    "features = features.dropna()"
   ]
  },
  {
   "cell_type": "code",
   "execution_count": 17,
   "id": "06c2a9da",
   "metadata": {},
   "outputs": [],
   "source": [
    "# Standardize the features (important for K-means clustering)\n",
    "scaler = StandardScaler()\n",
    "scaled_features = scaler.fit_transform(features)"
   ]
  },
  {
   "cell_type": "code",
   "execution_count": 18,
   "id": "6007785b",
   "metadata": {},
   "outputs": [
    {
     "name": "stdout",
     "output_type": "stream",
     "text": [
      "Data Preparation Complete. Sample of Scaled Features:\n",
      "[[ 0.76013014  0.3373459  -0.11835933]\n",
      " [-0.17945875 -0.38553817 -0.63990676]\n",
      " [-0.92557033 -0.86746089  1.14825585]\n",
      " [ 1.75614415  1.54215268 -1.08694741]\n",
      " [-0.34569158  0.09638454  2.11684392]]\n"
     ]
    }
   ],
   "source": [
    "print(\"Data Preparation Complete. Sample of Scaled Features:\")\n",
    "print(scaled_features[:5])  # Display first 5 rows of scaled data\n"
   ]
  },
  {
   "cell_type": "markdown",
   "id": "97d53351",
   "metadata": {},
   "source": [
    "#### Step 2: Elbow Method to Determine Optimal Clusters"
   ]
  },
  {
   "cell_type": "code",
   "execution_count": 19,
   "id": "014e8cce",
   "metadata": {},
   "outputs": [],
   "source": [
    "# Elbow method to determine the optimal number of clusters\n",
    "\n",
    "wcss = []  # List to store Within-Cluster Sum of Squares\n",
    "for i in range(1, 11):  # Trying between 1 and 10 clusters\n",
    "    kmeans = KMeans(n_clusters=i, random_state=42)\n",
    "    kmeans.fit(scaled_features)\n",
    "    wcss.append(kmeans.inertia_)\n",
    "\n"
   ]
  },
  {
   "cell_type": "code",
   "execution_count": 20,
   "id": "a73ca0da",
   "metadata": {},
   "outputs": [
    {
     "data": {
      "image/png": "[encoded data removed]",
      "text/plain": [
       "<Figure size 800x500 with 1 Axes>"
      ]
     },
     "metadata": {},
     "output_type": "display_data"
    }
   ],
   "source": [
    "# Plot the Elbow Method\n",
    "plt.figure(figsize=(8, 5))\n",
    "plt.plot(range(1, 11), wcss, marker='o', linestyle='--')\n",
    "plt.title('Elbow Method for Optimal Clusters')\n",
    "plt.xlabel('Number of Clusters')\n",
    "plt.ylabel('WCSS')\n",
    "plt.show()\n"
   ]
  },
  {
   "cell_type": "markdown",
   "id": "f7d9783f",
   "metadata": {},
   "source": [
    "#### Step 3: Apply K-means Clustering"
   ]
  },
  {
   "cell_type": "code",
   "execution_count": 21,
   "id": "bb5f7cbe",
   "metadata": {},
   "outputs": [],
   "source": [
    "# Apply K-means with the optimal number of clusters (e.g., 3 clusters based on the elbow plot)\n",
    "optimal_clusters = 3  # Replace this with the number from the elbow method\n",
    "kmeans = KMeans(n_clusters=optimal_clusters, random_state=42)\n",
    "clusters = kmeans.fit_predict(scaled_features)\n"
   ]
  },
  {
   "cell_type": "code",
   "execution_count": 22,
   "id": "29ea8c69",
   "metadata": {},
   "outputs": [],
   "source": [
    "# Add the cluster labels to the dataset\n",
    "df['Cluster'] = clusters\n"
   ]
  },
  {
   "cell_type": "code",
   "execution_count": 23,
   "id": "4b2838b6",
   "metadata": {},
   "outputs": [
    {
     "name": "stdout",
     "output_type": "stream",
     "text": [
      "\n",
      "Segmented Customer Data:\n",
      "   Customer ID  Total Spend  Items Purchased  Days Since Last Purchase  \\\n",
      "0          101      1120.20               14                        25   \n",
      "1          102       780.50               11                        18   \n",
      "2          103       510.75                9                        42   \n",
      "3          104      1480.30               19                        12   \n",
      "4          105       720.40               13                        55   \n",
      "\n",
      "   Cluster  \n",
      "0        2  \n",
      "1        1  \n",
      "2        0  \n",
      "3        2  \n",
      "4        0  \n"
     ]
    }
   ],
   "source": [
    "# View the segmented data\n",
    "print(\"\\nSegmented Customer Data:\")\n",
    "print(df[['Customer ID', 'Total Spend', 'Items Purchased', 'Days Since Last Purchase', 'Cluster']].head())\n"
   ]
  },
  {
   "cell_type": "markdown",
   "id": "952e26d8",
   "metadata": {},
   "source": [
    "#### Step 4: Analyze Cluster Centers"
   ]
  },
  {
   "cell_type": "code",
   "execution_count": 24,
   "id": "4e1aef01",
   "metadata": {},
   "outputs": [
    {
     "name": "stdout",
     "output_type": "stream",
     "text": [
      "\n",
      "Cluster Centers (Unscaled):\n",
      "[[ 593.9025641    10.4957265    42.88888889]\n",
      " [ 629.25086207    9.6637931    18.87068966]\n",
      " [1311.14444444   17.61538462   17.94017094]]\n"
     ]
    }
   ],
   "source": [
    "# Retrieve and display the cluster centers (unscaled)\n",
    "cluster_centers = scaler.inverse_transform(kmeans.cluster_centers_)\n",
    "print(\"\\nCluster Centers (Unscaled):\")\n",
    "print(cluster_centers)\n"
   ]
  },
  {
   "cell_type": "markdown",
   "id": "b824ceba",
   "metadata": {},
   "source": [
    "# 5. Visualization:\n",
    "Create visualizations (e.g., scatter plots, bar charts) to illustrate customer segments."
   ]
  },
  {
   "cell_type": "code",
   "execution_count": 25,
   "id": "22c95c1f",
   "metadata": {},
   "outputs": [
    {
     "data": {
      "image/png": "[encoded data removed]",
      "text/plain": [
       "<Figure size 1000x600 with 1 Axes>"
      ]
     },
     "metadata": {},
     "output_type": "display_data"
    }
   ],
   "source": [
    "# Visualize customer segments using scatter plot\n",
    "plt.figure(figsize=(10, 6))\n",
    "\n",
    "# Scatter plot for 'Total Spend' vs 'Items Purchased' colored by cluster\n",
    "sns.scatterplot(x=df['Total Spend'], y=df['Items Purchased'], hue=df['Cluster'], palette='Set1', s=100, edgecolor='black')\n",
    "\n",
    "plt.title('Customer Segmentation: Total Spend vs Items Purchased')\n",
    "plt.xlabel('Total Spend')\n",
    "plt.ylabel('Items Purchased')\n",
    "plt.legend(title='Cluster')\n",
    "plt.show()\n"
   ]
  },
  {
   "cell_type": "markdown",
   "id": "ff55ad2d",
   "metadata": {},
   "source": [
    "#### Plot bar charts for each cluster to compare key metrics\n"
   ]
  },
  {
   "cell_type": "code",
   "execution_count": 26,
   "id": "6da877ec",
   "metadata": {},
   "outputs": [],
   "source": [
    "cluster_means = df.groupby('Cluster')[['Total Spend', 'Items Purchased', 'Days Since Last Purchase']].mean()\n"
   ]
  },
  {
   "cell_type": "code",
   "execution_count": 27,
   "id": "957eda2c",
   "metadata": {},
   "outputs": [
    {
     "data": {
      "image/png": "[encoded data removed]",
      "text/plain": [
       "<Figure size 1000x600 with 1 Axes>"
      ]
     },
     "metadata": {},
     "output_type": "display_data"
    }
   ],
   "source": [
    "# Plot Total Spend by Cluster\n",
    "plt.figure(figsize=(10, 6))\n",
    "cluster_means['Total Spend'].plot(kind='bar', color='skyblue', edgecolor='black')\n",
    "plt.title('Average Total Spend by Customer Segment')\n",
    "plt.xlabel('Cluster')\n",
    "plt.ylabel('Average Total Spend')\n",
    "plt.xticks(rotation=0)\n",
    "plt.show()"
   ]
  },
  {
   "cell_type": "code",
   "execution_count": 28,
   "id": "e279188a",
   "metadata": {},
   "outputs": [
    {
     "data": {
      "image/png": "[encoded data removed]",
      "text/plain": [
       "<Figure size 1000x600 with 1 Axes>"
      ]
     },
     "metadata": {},
     "output_type": "display_data"
    }
   ],
   "source": [
    "# Plot Items Purchased by Cluster\n",
    "plt.figure(figsize=(10, 6))\n",
    "cluster_means['Items Purchased'].plot(kind='bar', color='lightgreen', edgecolor='black')\n",
    "plt.title('Average Items Purchased by Customer Segment')\n",
    "plt.xlabel('Cluster')\n",
    "plt.ylabel('Average Items Purchased')\n",
    "plt.xticks(rotation=0)\n",
    "plt.show()"
   ]
  },
  {
   "cell_type": "code",
   "execution_count": 29,
   "id": "eedf176b",
   "metadata": {},
   "outputs": [
    {
     "data": {
      "image/png": "[encoded data removed]",
      "text/plain": [
       "<Figure size 1000x600 with 1 Axes>"
      ]
     },
     "metadata": {},
     "output_type": "display_data"
    }
   ],
   "source": [
    "# Plot Days Since Last Purchase by Cluster\n",
    "plt.figure(figsize=(10, 6))\n",
    "cluster_means['Days Since Last Purchase'].plot(kind='bar', color='salmon', edgecolor='black')\n",
    "plt.title('Average Days Since Last Purchase by Customer Segment')\n",
    "plt.xlabel('Cluster')\n",
    "plt.ylabel('Average Days Since Last Purchase')\n",
    "plt.xticks(rotation=0)\n",
    "plt.show()\n"
   ]
  },
  {
   "cell_type": "markdown",
   "id": "4291896f",
   "metadata": {},
   "source": [
    "# 6. Insights and Recommendations:\n",
    "Analyze characteristics of each segment and provideinsights."
   ]
  },
  {
   "cell_type": "markdown",
   "id": "3b4f4584",
   "metadata": {},
   "source": [
    "### Step 1: Understand Cluster Characteristics\n",
    "Calculate the average values of key metrics for each cluster to summarize their behavior."
   ]
  },
  {
   "cell_type": "code",
   "execution_count": 30,
   "id": "f1b79318",
   "metadata": {},
   "outputs": [
    {
     "data": {
      "text/html": [
       "<div>\n",
       "<style scoped>\n",
       "    .dataframe tbody tr th:only-of-type {\n",
       "        vertical-align: middle;\n",
       "    }\n",
       "\n",
       "    .dataframe tbody tr th {\n",
       "        vertical-align: top;\n",
       "    }\n",
       "\n",
       "    .dataframe thead th {\n",
       "        text-align: right;\n",
       "    }\n",
       "</style>\n",
       "<table border=\"1\" class=\"dataframe\">\n",
       "  <thead>\n",
       "    <tr style=\"text-align: right;\">\n",
       "      <th></th>\n",
       "      <th>Total Spend</th>\n",
       "      <th>Items Purchased</th>\n",
       "      <th>Days Since Last Purchase</th>\n",
       "    </tr>\n",
       "    <tr>\n",
       "      <th>Cluster</th>\n",
       "      <th></th>\n",
       "      <th></th>\n",
       "      <th></th>\n",
       "    </tr>\n",
       "  </thead>\n",
       "  <tbody>\n",
       "    <tr>\n",
       "      <th>0</th>\n",
       "      <td>593.902564</td>\n",
       "      <td>10.495726</td>\n",
       "      <td>42.888889</td>\n",
       "    </tr>\n",
       "    <tr>\n",
       "      <th>1</th>\n",
       "      <td>629.250862</td>\n",
       "      <td>9.663793</td>\n",
       "      <td>18.870690</td>\n",
       "    </tr>\n",
       "    <tr>\n",
       "      <th>2</th>\n",
       "      <td>1311.144444</td>\n",
       "      <td>17.615385</td>\n",
       "      <td>17.940171</td>\n",
       "    </tr>\n",
       "  </tbody>\n",
       "</table>\n",
       "</div>"
      ],
      "text/plain": [
       "         Total Spend  Items Purchased  Days Since Last Purchase\n",
       "Cluster                                                        \n",
       "0         593.902564        10.495726                 42.888889\n",
       "1         629.250862         9.663793                 18.870690\n",
       "2        1311.144444        17.615385                 17.940171"
      ]
     },
     "execution_count": 30,
     "metadata": {},
     "output_type": "execute_result"
    }
   ],
   "source": [
    "# Calculate average metrics for each cluster\n",
    "df.groupby('Cluster')[['Total Spend', 'Items Purchased', 'Days Since Last Purchase']].mean()\n",
    "\n",
    "\n"
   ]
  },
  {
   "cell_type": "markdown",
   "id": "ca41835d",
   "metadata": {},
   "source": [
    "### Step 2: Interpret Each Cluster\n",
    "Use the summary table to understand the defining characteristics of each cluster:\n",
    "\n",
    "Example Interpretation:\n",
    "\n",
    "##### Cluster 0: Low Spenders \n",
    "\n",
    "Low Spend: $593.902564\n",
    "\n",
    "Purchase Frequency: Moderate\n",
    "\n",
    "Last Purchase: 42.88 days ago\n",
    "\n",
    "##### Cluster 1: Moderate Spenders \n",
    "\n",
    "Average Spend: $629.250862\n",
    "\n",
    "Purchase Frequency: Low\n",
    "\n",
    "Last Purchase: 18.87 days ago\n",
    "\n",
    "##### Cluster 2: High-Value Customers \n",
    "\n",
    "High Spend: $1311.144444\n",
    "\n",
    "Purchase Frequency: High\n",
    "\n",
    "Last Purchase: 17.94 days ago\n"
   ]
  },
  {
   "cell_type": "code",
   "execution_count": 31,
   "id": "4fb4e64b",
   "metadata": {},
   "outputs": [
    {
     "data": {
      "image/png": "[encoded data removed]",
      "text/plain": [
       "<Figure size 1000x600 with 2 Axes>"
      ]
     },
     "metadata": {},
     "output_type": "display_data"
    }
   ],
   "source": [
    "# Visualize the cluster characteristics\n",
    "plt.figure(figsize=(10, 6))\n",
    "sns.heatmap(cluster_means, annot=True, fmt=\".1f\", cmap=\"YlGnBu\", cbar=True)\n",
    "plt.title('Cluster Characteristics Heatmap')\n",
    "plt.xlabel('Metrics')\n",
    "plt.ylabel('Cluster')\n",
    "plt.show()\n"
   ]
  },
  {
   "cell_type": "code",
   "execution_count": null,
   "id": "d3afc63a",
   "metadata": {},
   "outputs": [],
   "source": []
  }
 ],
 "metadata": {
  "kernelspec": {
   "display_name": "Python 3 (ipykernel)",
   "language": "python",
   "name": "python3"
  },
  "language_info": {
   "codemirror_mode": {
    "name": "ipython",
    "version": 3
   },
   "file_extension": ".py",
   "mimetype": "text/x-python",
   "name": "python",
   "nbconvert_exporter": "python",
   "pygments_lexer": "ipython3",
   "version": "3.11.1"
  }
 },
 "nbformat": 4,
 "nbformat_minor": 5
}
